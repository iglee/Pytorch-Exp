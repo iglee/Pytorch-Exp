{
 "cells": [
  {
   "cell_type": "code",
   "execution_count": 15,
   "metadata": {},
   "outputs": [],
   "source": [
    "# initial imports\n",
    "\n",
    "import torch\n",
    "\n",
    "import matplotlib.pyplot as plt"
   ]
  },
  {
   "cell_type": "markdown",
   "metadata": {},
   "source": [
    "## 1. Different types of tensors using pytorch\n",
    "\n",
    "1. empty tensor - uninitialized.  the tensor dimensions can be specified, but it's empty.\n",
    "\n",
    "`torch.empty(DIMENSIONS)`\n",
    "2. randomly initialized tensor\n",
    "\n",
    "`torch.rand(DIMENSIONS)`\n",
    "3. tensor initialized with zeros\n",
    "\n",
    "`torch.zeros(DIMENSIONS)`\n",
    "4. tensor initialized with ones\n",
    "\n",
    "`torch.ones(DIMENSIONS)`\n",
    "5. randomly initialized with normal distribution random numbers $\\mathcal{N} (\\mu = 0, \\sigma^2 = 1)$\n",
    "\n",
    "`torch.randn_like(DIMENSIONS)` $\\rightarrow$ we can initialize using `_like()` functions"
   ]
  },
  {
   "cell_type": "markdown",
   "metadata": {},
   "source": [
    "Let's try random initialization with normal distribution in 5.  Given a tensor, `randn_like` will initialize that function with normal distribution."
   ]
  },
  {
   "cell_type": "code",
   "execution_count": 42,
   "metadata": {},
   "outputs": [],
   "source": [
    "x = torch.ones(2000)"
   ]
  },
  {
   "cell_type": "code",
   "execution_count": 43,
   "metadata": {},
   "outputs": [],
   "source": [
    "x_randn = torch.randn_like(x)"
   ]
  },
  {
   "cell_type": "markdown",
   "metadata": {},
   "source": [
    "To make sure, we can try to plot the distribution."
   ]
  },
  {
   "cell_type": "code",
   "execution_count": 44,
   "metadata": {},
   "outputs": [],
   "source": [
    "sorted_x, sorted_indices = x_randn.sort()"
   ]
  },
  {
   "cell_type": "code",
   "execution_count": 45,
   "metadata": {},
   "outputs": [
    {
     "data": {
      "image/png": "[encoded data removed]",
      "text/plain": [
       "<Figure size 432x288 with 1 Axes>"
      ]
     },
     "metadata": {
      "needs_background": "light"
     },
     "output_type": "display_data"
    }
   ],
   "source": [
    "plt.hist(sorted_x, bins = 50)\n",
    "plt.show()"
   ]
  },
  {
   "cell_type": "markdown",
   "metadata": {},
   "source": [
    "cool.  I'm better convinced that this is normally random."
   ]
  },
  {
   "cell_type": "markdown",
   "metadata": {},
   "source": [
    "## 2. Operations\n",
    "\n",
    "1. Addition\n",
    "2. in-place operations\n",
    "3. mathematical operations\n",
    "4. matrix multiplication\n",
    "    - dot product\n",
    "    - matrix product\n",
    "5. changing dimensions\n",
    "6. element-wise operations\n",
    "7. broadcasting"
   ]
  },
  {
   "cell_type": "markdown",
   "metadata": {},
   "source": [
    "### 2.1 Addition\n",
    "\n",
    "First, we define a couple tensors for our purposes."
   ]
  },
  {
   "cell_type": "code",
   "execution_count": 48,
   "metadata": {},
   "outputs": [],
   "source": [
    "x = torch.randn(2,3,1,2)"
   ]
  },
  {
   "cell_type": "code",
   "execution_count": 49,
   "metadata": {},
   "outputs": [
    {
     "data": {
      "text/plain": [
       "tensor([[[[ 1.1677,  0.2297]],\n",
       "\n",
       "         [[-0.5983,  1.2568]],\n",
       "\n",
       "         [[-1.2132,  0.0813]]],\n",
       "\n",
       "\n",
       "        [[[-0.4010,  0.4659]],\n",
       "\n",
       "         [[ 1.2019,  0.5684]],\n",
       "\n",
       "         [[ 0.5998,  0.2074]]]])"
      ]
     },
     "execution_count": 49,
     "metadata": {},
     "output_type": "execute_result"
    }
   ],
   "source": [
    "x"
   ]
  },
  {
   "cell_type": "markdown",
   "metadata": {},
   "source": [
    "Taking a look at this, let's break down the dimensions and count."
   ]
  },
  {
   "cell_type": "markdown",
   "metadata": {},
   "source": [
    "```\n",
    "tensor([\n",
    "        [    \n",
    "             [   [ 1.1677,  0.2297]   ],\n",
    "\n",
    "             [   [-0.5983,  1.2568]   ],\n",
    "\n",
    "             [   [-1.2132,  0.0813]   ]\n",
    "        ],\n",
    "\n",
    "\n",
    "        [    \n",
    "             [   [-0.4010,  0.4659]   ],\n",
    "\n",
    "             [   [ 1.2019,  0.5684]   ],\n",
    "\n",
    "             [   [ 0.5998,  0.2074]   ]\n",
    "        ]\n",
    "       ])\n",
    "```\n",
    "Spacing out to make clear how dimensions are represented in pytorch.  Note that the $3^{rd}$ dimension is not represented, since it's 1.\n",
    "\n",
    "Now we define couple more vectors."
   ]
  },
  {
   "cell_type": "code",
   "execution_count": 50,
   "metadata": {},
   "outputs": [],
   "source": [
    "y = torch.randn(2,3,1,2)\n",
    "z = torch.randn(2,3,2  )\n",
    "a = torch.randn(  3,1,2)\n",
    "b = torch.randn(2,3,1  )"
   ]
  },
  {
   "cell_type": "markdown",
   "metadata": {},
   "source": [
    "We can use various representation to add two tensors: `+`, `torch.add(tensor)`"
   ]
  },
  {
   "cell_type": "code",
   "execution_count": 51,
   "metadata": {},
   "outputs": [
    {
     "data": {
      "text/plain": [
       "tensor([[[[ 2.0093, -1.1083]],\n",
       "\n",
       "         [[ 0.2044,  1.8400]],\n",
       "\n",
       "         [[-1.9570, -1.0163]]],\n",
       "\n",
       "\n",
       "        [[[ 0.2404,  0.0967]],\n",
       "\n",
       "         [[ 2.6468,  0.6410]],\n",
       "\n",
       "         [[ 1.6830, -0.2078]]]])"
      ]
     },
     "execution_count": 51,
     "metadata": {},
     "output_type": "execute_result"
    }
   ],
   "source": [
    "x+y"
   ]
  },
  {
   "cell_type": "code",
   "execution_count": 53,
   "metadata": {},
   "outputs": [
    {
     "data": {
      "text/plain": [
       "tensor([[[[ 2.0093, -1.1083]],\n",
       "\n",
       "         [[ 0.2044,  1.8400]],\n",
       "\n",
       "         [[-1.9570, -1.0163]]],\n",
       "\n",
       "\n",
       "        [[[ 0.2404,  0.0967]],\n",
       "\n",
       "         [[ 2.6468,  0.6410]],\n",
       "\n",
       "         [[ 1.6830, -0.2078]]]])"
      ]
     },
     "execution_count": 53,
     "metadata": {},
     "output_type": "execute_result"
    }
   ],
   "source": [
    "y+x"
   ]
  },
  {
   "cell_type": "code",
   "execution_count": 52,
   "metadata": {},
   "outputs": [
    {
     "data": {
      "text/plain": [
       "tensor([[[[ 2.0093, -1.1083]],\n",
       "\n",
       "         [[ 0.2044,  1.8400]],\n",
       "\n",
       "         [[-1.9570, -1.0163]]],\n",
       "\n",
       "\n",
       "        [[[ 0.2404,  0.0967]],\n",
       "\n",
       "         [[ 2.6468,  0.6410]],\n",
       "\n",
       "         [[ 1.6830, -0.2078]]]])"
      ]
     },
     "execution_count": 52,
     "metadata": {},
     "output_type": "execute_result"
    }
   ],
   "source": [
    "x.add(y)"
   ]
  },
  {
   "cell_type": "markdown",
   "metadata": {},
   "source": [
    "### 2.2 In-place operations\n",
    "\n",
    "Sometimes we want to operate on a tensor and modify it.  This can be done using `_`.  To do this, we first make a copy of a tensor using `tensor.clone()` method."
   ]
  },
  {
   "cell_type": "code",
   "execution_count": 54,
   "metadata": {},
   "outputs": [],
   "source": [
    "x_copy = x.clone()"
   ]
  },
  {
   "cell_type": "code",
   "execution_count": 55,
   "metadata": {},
   "outputs": [
    {
     "data": {
      "text/plain": [
       "tensor([[[[ 1.1677,  0.2297]],\n",
       "\n",
       "         [[-0.5983,  1.2568]],\n",
       "\n",
       "         [[-1.2132,  0.0813]]],\n",
       "\n",
       "\n",
       "        [[[-0.4010,  0.4659]],\n",
       "\n",
       "         [[ 1.2019,  0.5684]],\n",
       "\n",
       "         [[ 0.5998,  0.2074]]]])"
      ]
     },
     "execution_count": 55,
     "metadata": {},
     "output_type": "execute_result"
    }
   ],
   "source": [
    "x_copy"
   ]
  },
  {
   "cell_type": "markdown",
   "metadata": {},
   "source": [
    "Then, we do an in-place operation to add `x_copy` and `y`"
   ]
  },
  {
   "cell_type": "code",
   "execution_count": 56,
   "metadata": {},
   "outputs": [
    {
     "data": {
      "text/plain": [
       "tensor([[[[ 2.0093, -1.1083]],\n",
       "\n",
       "         [[ 0.2044,  1.8400]],\n",
       "\n",
       "         [[-1.9570, -1.0163]]],\n",
       "\n",
       "\n",
       "        [[[ 0.2404,  0.0967]],\n",
       "\n",
       "         [[ 2.6468,  0.6410]],\n",
       "\n",
       "         [[ 1.6830, -0.2078]]]])"
      ]
     },
     "execution_count": 56,
     "metadata": {},
     "output_type": "execute_result"
    }
   ],
   "source": [
    "x_copy.add_(y)"
   ]
  },
  {
   "cell_type": "markdown",
   "metadata": {},
   "source": [
    "Now, we see that this tensor is modified"
   ]
  },
  {
   "cell_type": "code",
   "execution_count": 57,
   "metadata": {},
   "outputs": [
    {
     "data": {
      "text/plain": [
       "tensor([[[[ 2.0093, -1.1083]],\n",
       "\n",
       "         [[ 0.2044,  1.8400]],\n",
       "\n",
       "         [[-1.9570, -1.0163]]],\n",
       "\n",
       "\n",
       "        [[[ 0.2404,  0.0967]],\n",
       "\n",
       "         [[ 2.6468,  0.6410]],\n",
       "\n",
       "         [[ 1.6830, -0.2078]]]])"
      ]
     },
     "execution_count": 57,
     "metadata": {},
     "output_type": "execute_result"
    }
   ],
   "source": [
    "x_copy"
   ]
  },
  {
   "cell_type": "markdown",
   "metadata": {},
   "source": [
    "However, the original tensor is un-modified."
   ]
  },
  {
   "cell_type": "code",
   "execution_count": 58,
   "metadata": {},
   "outputs": [
    {
     "data": {
      "text/plain": [
       "tensor([[[[ 1.1677,  0.2297]],\n",
       "\n",
       "         [[-0.5983,  1.2568]],\n",
       "\n",
       "         [[-1.2132,  0.0813]]],\n",
       "\n",
       "\n",
       "        [[[-0.4010,  0.4659]],\n",
       "\n",
       "         [[ 1.2019,  0.5684]],\n",
       "\n",
       "         [[ 0.5998,  0.2074]]]])"
      ]
     },
     "execution_count": 58,
     "metadata": {},
     "output_type": "execute_result"
    }
   ],
   "source": [
    "x"
   ]
  },
  {
   "cell_type": "markdown",
   "metadata": {},
   "source": [
    "Other types of in-place operations:\n",
    "\n",
    "- `abs_()`\n",
    "- `acos_()`: inverse cosine of input and then save to the variable.\n",
    "- `addmm_(input-matrix, m1, m2)`: matrix multiply `m1` and `m2`, then add to `input-matrix`.\n",
    "\n",
    "... etc."
   ]
  },
  {
   "cell_type": "markdown",
   "metadata": {},
   "source": [
    "### 3. Mathematical Operations\n",
    "\n",
    "Some mathematical operations that might be useful:\n",
    "\n",
    "**Element-wi** "
   ]
  },
  {
   "cell_type": "code",
   "execution_count": null,
   "metadata": {},
   "outputs": [],
   "source": []
  },
  {
   "cell_type": "code",
   "execution_count": null,
   "metadata": {},
   "outputs": [],
   "source": []
  },
  {
   "cell_type": "code",
   "execution_count": null,
   "metadata": {},
   "outputs": [],
   "source": []
  },
  {
   "cell_type": "code",
   "execution_count": null,
   "metadata": {},
   "outputs": [],
   "source": []
  },
  {
   "cell_type": "code",
   "execution_count": null,
   "metadata": {},
   "outputs": [],
   "source": []
  },
  {
   "cell_type": "code",
   "execution_count": null,
   "metadata": {},
   "outputs": [],
   "source": []
  },
  {
   "cell_type": "code",
   "execution_count": null,
   "metadata": {},
   "outputs": [],
   "source": []
  }
 ],
 "metadata": {
  "kernelspec": {
   "display_name": "Python 3",
   "language": "python",
   "name": "python3"
  },
  "language_info": {
   "codemirror_mode": {
    "name": "ipython",
    "version": 3
   },
   "file_extension": ".py",
   "mimetype": "text/x-python",
   "name": "python",
   "nbconvert_exporter": "python",
   "pygments_lexer": "ipython3",
   "version": "3.7.5"
  }
 },
 "nbformat": 4,
 "nbformat_minor": 2
}
